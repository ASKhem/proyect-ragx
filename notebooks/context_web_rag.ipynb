{
 "cells": [
  {
   "cell_type": "code",
   "execution_count": 117,
   "metadata": {},
   "outputs": [],
   "source": [
    "import requests\n",
    "from bs4 import BeautifulSoup\n",
    "from sentence_transformers import SentenceTransformer\n",
    "import faiss\n",
    "import re"
   ]
  },
  {
   "cell_type": "code",
   "execution_count": 118,
   "metadata": {},
   "outputs": [],
   "source": [
    "#Nos permite obtener el contenido de una web\n",
    "def get_web_content(url):\n",
    "    response = requests.get(url)\n",
    "    soup = BeautifulSoup(response.text, 'html.parser')\n",
    "    \n",
    "    # Nos elimina el contenido de los scripts y estilos\n",
    "    for script in soup([\"script\", \"style\"]):\n",
    "        script.decompose()\n",
    "    text = soup.get_text()\n",
    "    text = re.sub(r'\\s+', ' ', text).strip()\n",
    "    return text"
   ]
  },
  {
   "cell_type": "code",
   "execution_count": 119,
   "metadata": {},
   "outputs": [],
   "source": [
    "# Nos divide el texto en chunks\n",
    "def create_chunks(text, chunk_size=1000):\n",
    "    chunks = [text[i:i + chunk_size] for i in range(0, len(text), chunk_size)]\n",
    "    print(f\"Created {len(chunks)} chunks\")\n",
    "    return chunks"
   ]
  },
  {
   "cell_type": "code",
   "execution_count": 120,
   "metadata": {},
   "outputs": [],
   "source": [
    "# Creamos el vector store\n",
    "def create_vector_store(chunks):\n",
    "    model = SentenceTransformer('sentence-transformers/all-MiniLM-L6-v2')\n",
    "    embeddings = model.encode(chunks)\n",
    "    \n",
    "    dimension = embeddings.shape[1]\n",
    "    index = faiss.IndexFlatIP(dimension)\n",
    "    index.add(embeddings.astype('float32'))\n",
    "    \n",
    "    return model, index"
   ]
  },
  {
   "cell_type": "code",
   "execution_count": 121,
   "metadata": {},
   "outputs": [],
   "source": [
    "# Función de búsqueda se basa en la similitud de cosenos\n",
    "def search(query, model, index, chunks, k=3):\n",
    "    query_vector = model.encode([query])\n",
    "    scores, indices = index.search(query_vector.astype('float32'), k)\n",
    "    \n",
    "    results = []\n",
    "    for idx, score in zip(indices[0], scores[0]):\n",
    "        results.append({\n",
    "            'score': float(score),\n",
    "            'content': chunks[idx][:200] + \"...\"\n",
    "        })\n",
    "    return results"
   ]
  },
  {
   "cell_type": "code",
   "execution_count": 122,
   "metadata": {},
   "outputs": [],
   "source": [
    "from openai import OpenAI\n",
    "\n",
    "client = OpenAI(\n",
    "    base_url=\"https://integrate.api.nvidia.com/v1\",\n",
    "    api_key=\"Inserta tu api key\"\n",
    ")\n",
    "\n",
    "def send_request(query):\n",
    "    completion = client.chat.completions.create(\n",
    "        model=\"nvidia/llama-3.1-nemotron-70b-instruct\",\n",
    "        messages=[{\"role\": \"user\", \"content\": query}],\n",
    "        temperature=0.5,\n",
    "        top_p=1,\n",
    "        max_tokens=1024,\n",
    "        stream=True\n",
    "    )\n",
    "\n",
    "    response_content = \"\"\n",
    "    for chunk in completion:\n",
    "        if chunk.choices[0].delta.content is not None:\n",
    "            response_content += chunk.choices[0].delta.content\n",
    "\n",
    "    return response_content"
   ]
  },
  {
   "cell_type": "code",
   "execution_count": 123,
   "metadata": {},
   "outputs": [],
   "source": [
    "# Funcion para formatear en un prompt\n",
    "def format_prompt(query, context):\n",
    "    prompt = f\"\"\"\n",
    "    In English always: based on the following context, answer the question: \"{query}\"\n",
    "    \n",
    "    {context}\n",
    "    \n",
    "    Answer:\"\"\"\n",
    "    return prompt\n"
   ]
  },
  {
   "cell_type": "code",
   "execution_count": 124,
   "metadata": {},
   "outputs": [
    {
     "name": "stdout",
     "output_type": "stream",
     "text": [
      "Created 5 chunks\n",
      "Based on the provided context, here is the answer to the question:\n",
      "\n",
      "**\"Según este repositorio, ¿cómo puedo participar como desarrollador?\"**\n",
      "\n",
      "**Respuesta:**\n",
      "Para participar como desarrollador, sigue las **\"Guías de contribución\"** disponibles en el archivo **`CONTRIBUTING.md`**. Si tienes alguna duda adicional o necesitas contacto directo, puedes enviar un correo electrónico a **`khemwirtz@gmail.com`**. Para reportar problemas específicos, utiliza **`GitHub Issues`**.\n"
     ]
    }
   ],
   "source": [
    "if __name__ == \"__main__\":\n",
    "    url = \"https://github.com/ASKhem/proyect-ragx\"\n",
    "    text = get_web_content(url)\n",
    "    \n",
    "    # Creamos chunks\n",
    "    chunks = create_chunks(text)\n",
    "    \n",
    "    # Creamos el vector store\n",
    "    model, index = create_vector_store(chunks)\n",
    "    \n",
    "    # Realizamos la búsqueda\n",
    "    query = \"Según este repositorio como puedo participar como desarrollador?\"\n",
    "    results = search(query, model, index, chunks)\n",
    "    context = results[0].get('content')\n",
    "    \n",
    "    # Formatea el resultado en un prompt\n",
    "    prompt = format_prompt(query, context)\n",
    "    \n",
    "    # Enviamos el prompt a la API\n",
    "    response = send_request(prompt)\n",
    "    print(response)"
   ]
  }
 ],
 "metadata": {
  "kernelspec": {
   "display_name": "ragx2",
   "language": "python",
   "name": "python3"
  },
  "language_info": {
   "codemirror_mode": {
    "name": "ipython",
    "version": 3
   },
   "file_extension": ".py",
   "mimetype": "text/x-python",
   "name": "python",
   "nbconvert_exporter": "python",
   "pygments_lexer": "ipython3",
   "version": "3.11.11"
  }
 },
 "nbformat": 4,
 "nbformat_minor": 2
}
