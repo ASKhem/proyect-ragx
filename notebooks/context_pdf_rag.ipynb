{
 "cells": [
  {
   "cell_type": "code",
   "execution_count": 19,
   "metadata": {},
   "outputs": [],
   "source": [
    "import requests\n",
    "from pypdf import PdfReader\n",
    "from sentence_transformers import SentenceTransformer\n",
    "import faiss\n",
    "import re"
   ]
  },
  {
   "cell_type": "code",
   "execution_count": 20,
   "metadata": {},
   "outputs": [],
   "source": [
    "# Nos divide el texto en chunks\n",
    "def create_chunks(text, chunk_size=1000):\n",
    "    chunks = [text[i:i + chunk_size] for i in range(0, len(text), chunk_size)]\n",
    "    print(f\"Created {len(chunks)} chunks\")\n",
    "    return chunks"
   ]
  },
  {
   "cell_type": "code",
   "execution_count": 21,
   "metadata": {},
   "outputs": [],
   "source": [
    "def get_pdf_content(path):\n",
    "    with open(path, 'rb') as file:\n",
    "        reader = PdfReader(file)\n",
    "        text = ''\n",
    "        for page in reader.pages:\n",
    "            text += page.extract_text() + '\\n'\n",
    "    return text.strip()"
   ]
  },
  {
   "cell_type": "code",
   "execution_count": 22,
   "metadata": {},
   "outputs": [],
   "source": [
    "# Creamos el vector store\n",
    "def create_vector_store(chunks):\n",
    "    model = SentenceTransformer('sentence-transformers/all-MiniLM-L6-v2')\n",
    "    embeddings = model.encode(chunks)\n",
    "    \n",
    "    dimension = embeddings.shape[1]\n",
    "    index = faiss.IndexFlatIP(dimension)\n",
    "    index.add(embeddings.astype('float32'))\n",
    "    \n",
    "    return model, index"
   ]
  },
  {
   "cell_type": "code",
   "execution_count": 23,
   "metadata": {},
   "outputs": [],
   "source": [
    "# Función de búsqueda se basa en la similitud de cosenos\n",
    "def search(query, model, index, chunks, k=3):\n",
    "    query_vector = model.encode([query])\n",
    "    scores, indices = index.search(query_vector.astype('float32'), k)\n",
    "    \n",
    "    results = []\n",
    "    for idx, score in zip(indices[0], scores[0]):\n",
    "        results.append({\n",
    "            'score': float(score),\n",
    "            'content': chunks[idx][:200] + \"...\"\n",
    "        })\n",
    "    return results"
   ]
  },
  {
   "cell_type": "code",
   "execution_count": 24,
   "metadata": {},
   "outputs": [],
   "source": [
    "from openai import OpenAI\n",
    "\n",
    "client = OpenAI(\n",
    "    base_url=\"https://integrate.api.nvidia.com/v1\",\n",
    "    api_key=\"Inserta tu api key\"\n",
    ")\n",
    "\n",
    "def send_request(query):\n",
    "    completion = client.chat.completions.create(\n",
    "        model=\"nvidia/llama-3.1-nemotron-70b-instruct\",\n",
    "        messages=[{\"role\": \"user\", \"content\": query}],\n",
    "        temperature=0.5,\n",
    "        top_p=1,\n",
    "        max_tokens=1024,\n",
    "        stream=True\n",
    "    )\n",
    "\n",
    "    response_content = \"\"\n",
    "    for chunk in completion:\n",
    "        if chunk.choices[0].delta.content is not None:\n",
    "            response_content += chunk.choices[0].delta.content\n",
    "\n",
    "    return response_content"
   ]
  },
  {
   "cell_type": "code",
   "execution_count": 25,
   "metadata": {},
   "outputs": [],
   "source": [
    "# Funcion para formatear en un prompt\n",
    "def format_prompt(query, context):\n",
    "    prompt = f\"\"\"\n",
    "    En español: Basándote en el siguiente contexto, responde a la pregunta: \"{query}\"\n",
    "    \n",
    "    {context}\n",
    "    \n",
    "    Respuesta:\"\"\"\n",
    "    return prompt\n"
   ]
  },
  {
   "cell_type": "code",
   "execution_count": 26,
   "metadata": {},
   "outputs": [
    {
     "name": "stdout",
     "output_type": "stream",
     "text": [
      "Created 8 chunks\n",
      "Basándome en el contexto proporcionado, te respondo a la pregunta:\n",
      "\n",
      "**\"¿Cuál es el propósito de este repositorio de GitHub?\"**\n",
      "\n",
      "**Respuesta:**\n",
      "El propósito de este repositorio de GitHub parece ser proporcionar un **entorno de práctica o desarrollo de Python** que interactúa con una base de datos **MongoDB**, utilizando la biblioteca **PyMongo**. El repositorio incluye:\n",
      "\n",
      "1. **Configuración de un entorno de MongoDB** utilizando Docker, lo que facilita el despliegue y prueba de la base de datos de manera aislada.\n",
      "2. **Un notebook de Python** (probablemente Jupyter Notebook) que, presumiblemente, contiene código de ejemplo o prácticas para interactuar con la base de datos MongoDB a través de PyMongo.\n",
      "\n",
      "**Posibles usos del repositorio:**\n",
      "\n",
      "- **Aprendizaje**: Para aquellos que desean aprender a interactuar con MongoDB utilizando PyMongo en un entorno Python.\n",
      "- **Pruebas y Desarrollo**: Como un punto de partida para proyectos que requieren una base de datos NoSQL como MongoDB y una interfaz Python.\n",
      "- **Demostraciones o Ejemplos**: Para mostrar las capacidades de integración entre Python, PyMongo y MongoDB en un entorno de desarrollo controlado.\n"
     ]
    }
   ],
   "source": [
    "if __name__ == \"__main__\":\n",
    "    path = \"pdfs/laboratorio_Mongo_ii.pdf\"\n",
    "    text = get_pdf_content(path)\n",
    "    \n",
    "    # Creamos chunks\n",
    "    chunks = create_chunks(text)\n",
    "    \n",
    "    # Creamos el vector store\n",
    "    model, index = create_vector_store(chunks)\n",
    "    \n",
    "    # Realizamos la búsqueda\n",
    "    query = \"What is the porpuse of this github repository?\"\n",
    "    results = search(query, model, index, chunks)\n",
    "    context = results[0].get('content')\n",
    "    \n",
    "    # Formatea el resultado en un prompt\n",
    "    prompt = format_prompt(query, context)\n",
    "    \n",
    "    # Enviamos el prompt a la API\n",
    "    response = send_request(prompt)\n",
    "    print(response)"
   ]
  }
 ],
 "metadata": {
  "kernelspec": {
   "display_name": "ragx2",
   "language": "python",
   "name": "python3"
  },
  "language_info": {
   "codemirror_mode": {
    "name": "ipython",
    "version": 3
   },
   "file_extension": ".py",
   "mimetype": "text/x-python",
   "name": "python",
   "nbconvert_exporter": "python",
   "pygments_lexer": "ipython3",
   "version": "3.11.11"
  }
 },
 "nbformat": 4,
 "nbformat_minor": 2
}
